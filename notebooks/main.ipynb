{
 "cells": [
  {
   "cell_type": "markdown",
   "id": "df544dd3",
   "metadata": {},
   "source": [
    "## Imports"
   ]
  },
  {
   "cell_type": "code",
   "execution_count": 1,
   "id": "1da1b323",
   "metadata": {},
   "outputs": [],
   "source": [
    "import kagglehub\n",
    "import os\n",
    "import shutil\n",
    "import pandas as pd\n",
    "import numpy as np\n",
    "import matplotlib.pyplot as plt\n",
    "import seaborn as sns\n",
    "import torch.nn as nn\n",
    "import torch.optim as optim\n",
    "import torch.nn.functional as F\n",
    "import torch\n",
    "from torch.utils.data import Dataset, DataLoader\n",
    "from sklearn.model_selection import train_test_split\n",
    "from transformers import CLIPProcessor, CLIPModel\n",
    "from PIL import Image\n",
    "from tqdm import tqdm\n",
    "from torch.utils.data import Dataset, DataLoader, random_split\n",
    "import torchvision.transforms as T\n",
    "import random"
   ]
  },
  {
   "cell_type": "code",
   "execution_count": 2,
   "id": "549f1bfe",
   "metadata": {},
   "outputs": [
    {
     "name": "stdout",
     "output_type": "stream",
     "text": [
      "Warning: Looks like you're using an outdated `kagglehub` version (installed: 0.3.11), please consider upgrading to the latest version (0.3.12).\n",
      "Path to dataset files: C:\\Users\\ahmed\\.cache\\kagglehub\\datasets\\sidharkal\\sports-image-classification\\versions\\1\n"
     ]
    }
   ],
   "source": [
    "# path = kagglehub.dataset_download(\"sidharkal/sports-image-classification\")\n",
    "\n",
    "# print(\"Path to dataset files:\", path)"
   ]
  },
  {
   "cell_type": "code",
   "execution_count": 3,
   "id": "bdf88933",
   "metadata": {},
   "outputs": [],
   "source": [
    "data_dir = \"../data\"\n",
    "images_dir = \"../data/dataset/\"\n",
    "train_dir = images_dir + \"train/\"\n",
    "\n",
    "badminton_train_dir = train_dir + \"Badminton/\"\n",
    "tennis_train_dir = train_dir + \"Tennis/\"\n",
    "cricket_train_dir = train_dir + \"Cricket/\"\n",
    "soccer_train_dir = train_dir + \"Soccer/\"\n",
    "swimming_train_dir = train_dir + \"Swimming/\"\n",
    "karate_train_dir = train_dir + \"Karate/\"\n",
    "wrestling_train_dir = train_dir + \"Wrestling/\"\n",
    "\n",
    "test_dir = images_dir + \"test/\"\n",
    "\n",
    "badminton_test_dir = test_dir + \"Badminton/\"\n",
    "tennis_test_dir = test_dir + \"Tennis/\"\n",
    "cricket_test_dir = test_dir + \"Cricket/\"\n",
    "soccer_test_dir = test_dir + \"Soccer/\"\n",
    "swimming_test_dir = test_dir + \"Swimming/\"\n",
    "karate_test_dir = test_dir + \"Karate/\"\n",
    "wrestling_test_dir = test_dir + \"Wrestling/\"\n",
    "\n",
    "device = torch.device(\"cuda\" if torch.cuda.is_available() else \"cpu\")"
   ]
  },
  {
   "cell_type": "code",
   "execution_count": 4,
   "id": "5fb00c8e",
   "metadata": {},
   "outputs": [
    {
     "data": {
      "text/plain": [
       "<torch._C.Generator at 0x25f094ee9f0>"
      ]
     },
     "execution_count": 4,
     "metadata": {},
     "output_type": "execute_result"
    }
   ],
   "source": [
    "torch.manual_seed(42)"
   ]
  },
  {
   "cell_type": "code",
   "execution_count": null,
   "id": "b7f94437",
   "metadata": {},
   "outputs": [],
   "source": [
    "shutil.copytree(path, data_dir, dirs_exist_ok=True)"
   ]
  },
  {
   "cell_type": "markdown",
   "id": "6fd987c4",
   "metadata": {},
   "source": [
    "## Organizing Data structure"
   ]
  },
  {
   "cell_type": "code",
   "execution_count": null,
   "id": "2acc0990",
   "metadata": {},
   "outputs": [],
   "source": [
    "# checking the train.csv , test.csv\n",
    "train_df = pd.read_csv(images_dir +\"/train.csv\")\n",
    "test_df = pd.read_csv(images_dir +\"/test.csv\")"
   ]
  },
  {
   "cell_type": "code",
   "execution_count": null,
   "id": "ad95c9d1",
   "metadata": {},
   "outputs": [],
   "source": [
    "test_df"
   ]
  },
  {
   "cell_type": "code",
   "execution_count": null,
   "id": "1e84d3b8",
   "metadata": {},
   "outputs": [],
   "source": [
    "train_df"
   ]
  },
  {
   "cell_type": "code",
   "execution_count": null,
   "id": "5c190640",
   "metadata": {},
   "outputs": [],
   "source": [
    "train_df.set_index(\"image_ID\", inplace=True), test_df.set_index(\"image_ID\", inplace=True)"
   ]
  },
  {
   "cell_type": "markdown",
   "id": "6c8c6d25",
   "metadata": {},
   "source": [
    "### Moving data to be per label"
   ]
  },
  {
   "cell_type": "code",
   "execution_count": null,
   "id": "7dee150d",
   "metadata": {},
   "outputs": [],
   "source": [
    "labels = train_df[\"label\"].unique()\n",
    "\n",
    "for label in labels:\n",
    "    os.makedirs(train_dir + label, exist_ok=True)\n",
    "    os.makedirs(test_dir + label, exist_ok=True)"
   ]
  },
  {
   "cell_type": "code",
   "execution_count": null,
   "id": "8874695e",
   "metadata": {},
   "outputs": [],
   "source": [
    "labels"
   ]
  },
  {
   "cell_type": "code",
   "execution_count": null,
   "id": "f3e31640",
   "metadata": {},
   "outputs": [],
   "source": [
    "train_df.loc['7c225f7b61.jpg']['label']"
   ]
  },
  {
   "cell_type": "code",
   "execution_count": null,
   "id": "5cecaf02",
   "metadata": {},
   "outputs": [],
   "source": [
    "print(train_dir)"
   ]
  },
  {
   "cell_type": "code",
   "execution_count": null,
   "id": "8b94fe2d",
   "metadata": {},
   "outputs": [],
   "source": [
    "for i in range(len(train_df)):\n",
    "    image_id = train_df.index[i]\n",
    "    label = train_df['label'][i]\n",
    "    old_path = train_dir + image_id\n",
    "    new_path = train_dir + label + \"/\" + image_id\n",
    "    if os.path.exists(old_path):\n",
    "        shutil.move(old_path, new_path)"
   ]
  },
  {
   "cell_type": "markdown",
   "id": "11f3972a",
   "metadata": {},
   "source": [
    "### Labeling Test data as it was unlabeled"
   ]
  },
  {
   "cell_type": "code",
   "execution_count": null,
   "id": "4f1efbd3",
   "metadata": {},
   "outputs": [],
   "source": [
    "os.environ[\"HF_HUB_DISABLE_SYMLINKS_WARNING\"] = \"1\"\n",
    "\n",
    "model = CLIPModel.from_pretrained(\"openai/clip-vit-base-patch32\").to(device)\n",
    "processor = CLIPProcessor.from_pretrained(\"openai/clip-vit-base-patch32\")\n",
    "\n",
    "classes = ['Badminton', 'Cricket', 'Tennis', 'Swimming', 'Soccer', 'Wrestling', 'Karate']\n",
    "\n",
    "def classify_with_clip(image_path):\n",
    "    image = Image.open(image_path).convert(\"RGB\")\n",
    "    inputs = processor(text=classes, images=image, return_tensors=\"pt\", padding=True)\n",
    "    inputs = {k: v.to(device) for k, v in inputs.items()}\n",
    "    outputs = model(**inputs)\n",
    "    logits_per_image = outputs.logits_per_image \n",
    "    probs = logits_per_image.softmax(dim=1)\n",
    "    pred = probs.argmax()\n",
    "    return classes[pred]"
   ]
  },
  {
   "cell_type": "code",
   "execution_count": null,
   "id": "3ae52915",
   "metadata": {},
   "outputs": [],
   "source": [
    "for i in tqdm(range(len(test_df))):\n",
    "    image_id = test_df.index[i]\n",
    "    image_path = test_dir + image_id\n",
    "    if not os.path.exists(image_path):\n",
    "        continue\n",
    "    label = classify_with_clip(image_path)\n",
    "    test_df.at[image_id, 'label'] = label\n",
    "    new_path = test_dir + label + \"/\" + image_id\n",
    "    if os.path.exists(image_path):\n",
    "        shutil.move(image_path, new_path)\n"
   ]
  },
  {
   "cell_type": "markdown",
   "id": "7c14467c",
   "metadata": {},
   "source": [
    "## Statistics from the data"
   ]
  },
  {
   "cell_type": "markdown",
   "id": "33f5b7a6",
   "metadata": {},
   "source": [
    "### Checking distribution of classes"
   ]
  },
  {
   "cell_type": "code",
   "execution_count": null,
   "id": "764cc121",
   "metadata": {},
   "outputs": [],
   "source": [
    "\n",
    "classes = ['Badminton', 'Cricket', 'Tennis', 'Swimming', 'Soccer', 'Wrestling', 'Karate']\n",
    "\n",
    "train_dirs = [train_dir + cls + \"/\" for cls in classes]\n",
    "test_dirs = [test_dir + cls + \"/\" for cls in classes]\n",
    "\n",
    "train_counts = [len(os.listdir(d)) if os.path.exists(d) else 0 for d in train_dirs]\n",
    "test_counts = [len(os.listdir(d)) if os.path.exists(d) else 0 for d in test_dirs]\n",
    "\n",
    "fig, axs = plt.subplots(1, 2, figsize=(16, 6))\n",
    "\n",
    "axs[0].bar(classes, train_counts, color='skyblue')\n",
    "axs[0].set_title('Train Class Distribution')\n",
    "axs[0].set_xlabel('Class')\n",
    "axs[0].set_ylabel('Number of Images')\n",
    "axs[0].tick_params(axis='x', rotation=45)\n",
    "\n",
    "axs[1].bar(classes, test_counts, color='lightgreen')\n",
    "axs[1].set_title('Test Class Distribution')\n",
    "axs[1].set_xlabel('Class')\n",
    "axs[1].set_ylabel('Number of Images')\n",
    "axs[1].tick_params(axis='x', rotation=45)\n",
    "\n",
    "plt.tight_layout()\n",
    "plt.show()\n"
   ]
  },
  {
   "cell_type": "markdown",
   "id": "ebf74727",
   "metadata": {},
   "source": [
    "### Per class statistics"
   ]
  },
  {
   "cell_type": "code",
   "execution_count": null,
   "id": "7cf0df3d",
   "metadata": {},
   "outputs": [],
   "source": [
    "x = np.arange(len(classes))  \n",
    "width = 0.35  \n",
    "\n",
    "fig, ax = plt.subplots(figsize=(12, 6))\n",
    "rects1 = ax.bar(x - width/2, train_counts, width, label='Train', color='skyblue')\n",
    "rects2 = ax.bar(x + width/2, test_counts, width, label='Test', color='lightgreen')\n",
    "\n",
    "ax.set_ylabel('Number of Images')\n",
    "ax.set_title('Per-Class Distribution: Train vs Test')\n",
    "ax.set_xticks(x)\n",
    "ax.set_xticklabels(classes, rotation=45)\n",
    "ax.legend()\n",
    "\n",
    "def annotate_bars(rects):\n",
    "    for rect in rects:\n",
    "        height = rect.get_height()\n",
    "        ax.annotate(f'{height}',\n",
    "                    xy=(rect.get_x() + rect.get_width() / 2, height),\n",
    "                    xytext=(0, 3),  \n",
    "                    textcoords=\"offset points\",\n",
    "                    ha='center', va='bottom', fontsize=8)\n",
    "\n",
    "annotate_bars(rects1)\n",
    "annotate_bars(rects2)\n",
    "\n",
    "plt.tight_layout()\n",
    "plt.show()"
   ]
  },
  {
   "cell_type": "markdown",
   "id": "ada6fd0e",
   "metadata": {},
   "source": [
    "### Pixel Value Distribution"
   ]
  },
  {
   "cell_type": "code",
   "execution_count": null,
   "id": "2de3b064",
   "metadata": {},
   "outputs": [],
   "source": [
    "class_brightness = {cls: [] for cls in classes}\n",
    "\n",
    "for cls, folder in zip(classes, train_dirs):\n",
    "    if not os.path.exists(folder):\n",
    "        continue\n",
    "    for img_file in os.listdir(folder):\n",
    "        img_path = os.path.join(folder, img_file)\n",
    "        try:\n",
    "            img = Image.open(img_path).convert(\"L\")  \n",
    "            img_arr = np.array(img)\n",
    "            mean_brightness = img_arr.mean()\n",
    "            class_brightness[cls].append(mean_brightness)\n",
    "        except Exception as e:\n",
    "            print(f\"Failed to process {img_path}: {e}\")\n",
    "\n",
    "# Plot distributions\n",
    "fig, axs = plt.subplots(len(classes), 1, figsize=(8, len(classes)*3))\n",
    "\n",
    "for idx, cls in enumerate(tqdm(classes)):\n",
    "    axs[idx].hist(class_brightness[cls], bins=30, color='skyblue', edgecolor='black', density=True)\n",
    "    axs[idx].set_title(f'Pixel Distribution: {cls}')\n",
    "    axs[idx].set_xlabel('Mean Pixel Values')\n",
    "    axs[idx].set_ylabel('Density')\n",
    "\n",
    "plt.tight_layout()\n",
    "plt.show()"
   ]
  },
  {
   "cell_type": "markdown",
   "id": "4ced7447",
   "metadata": {},
   "source": [
    "- Pixels values are distributed well across all the images meaning that the images are not too dark or too bright.\n",
    "- Thus images is considered to be well exposed and not too dark or too bright so little noise are added."
   ]
  },
  {
   "cell_type": "markdown",
   "id": "70951540",
   "metadata": {},
   "source": [
    "## Showing some images per class"
   ]
  },
  {
   "cell_type": "code",
   "execution_count": null,
   "id": "978da631",
   "metadata": {},
   "outputs": [],
   "source": [
    "fig, axs = plt.subplots(len(classes), 2, figsize=(8, len(classes) * 3))\n",
    "\n",
    "for row_idx, (cls, folder) in enumerate(zip(classes, train_dirs)):\n",
    "    if not os.path.exists(folder):\n",
    "        continue\n",
    "    images = [f for f in os.listdir(folder) if f.lower().endswith(('jpg', 'jpeg', 'png'))]\n",
    "    selected_images = images[:2]  \n",
    "    for col_idx in range(2):\n",
    "        if col_idx < len(selected_images):\n",
    "            img_path = os.path.join(folder, selected_images[col_idx])\n",
    "            img = Image.open(img_path)\n",
    "            axs[row_idx, col_idx].imshow(img)\n",
    "            axs[row_idx, col_idx].axis('off')\n",
    "            if col_idx == 0:\n",
    "                axs[row_idx, col_idx].set_title(f\"{cls} - Sample 1\")\n",
    "            else:\n",
    "                axs[row_idx, col_idx].set_title(f\"{cls} - Sample 2\")\n",
    "        else:\n",
    "            axs[row_idx, col_idx].axis('off')\n",
    "\n",
    "plt.tight_layout()\n",
    "plt.show()"
   ]
  },
  {
   "cell_type": "markdown",
   "id": "ed47f18e",
   "metadata": {},
   "source": [
    "## Dataset class and data manager"
   ]
  },
  {
   "cell_type": "markdown",
   "id": "045a9fcb",
   "metadata": {},
   "source": [
    "### Dataset class"
   ]
  },
  {
   "cell_type": "code",
   "execution_count": 5,
   "id": "0fc262ba",
   "metadata": {},
   "outputs": [],
   "source": [
    "class ImageDataset(Dataset):\n",
    "    def __init__(self, root_dir, classes, transform=None, is_train=True):\n",
    "        \"\"\"\n",
    "        Args:\n",
    "            root_dir (str): Directory with all the class folders\n",
    "            classes (list): List of class names (subfolder names)\n",
    "            transform (callable, optional): Optional transform to be applied on a sample\n",
    "            is_train (bool): Whether this is training data or not\n",
    "        \"\"\"\n",
    "        self.root_dir = root_dir\n",
    "        self.classes = classes\n",
    "        self.transform = transform\n",
    "        self.is_train = is_train\n",
    "        self.class_to_idx = {cls: idx for idx, cls in enumerate(classes)}\n",
    "        self.samples = []\n",
    "\n",
    "        # Default transforms if none provided\n",
    "        if self.transform is None:\n",
    "            if is_train:\n",
    "                self.transform = T.Compose([\n",
    "                    T.RandomResizedCrop(128), # Resize to 128x128\n",
    "                    # T.RandomHorizontalFlip(),\n",
    "                    # T.RandomRotation(15),\n",
    "                    T.ToTensor(),\n",
    "                ])\n",
    "            else:\n",
    "                self.transform = T.Compose([\n",
    "                    T.Resize(224),\n",
    "                    T.CenterCrop(128), # Resize to 128x128\n",
    "                    T.ToTensor(),\n",
    "                ])\n",
    "\n",
    "        for idx, cls in enumerate(classes):\n",
    "            class_folder = os.path.join(root_dir, cls)\n",
    "            if not os.path.isdir(class_folder):\n",
    "                continue\n",
    "            for img_name in os.listdir(class_folder):\n",
    "                if img_name.lower().endswith(('jpg', 'jpeg', 'png')):\n",
    "                    img_path = os.path.join(class_folder, img_name)\n",
    "                    self.samples.append((img_path, idx))\n",
    "\n",
    "    def __len__(self):\n",
    "        return len(self.samples)\n",
    "\n",
    "    def __getitem__(self, idx, retry=0):\n",
    "        img_path, label = self.samples[idx]\n",
    "        try:\n",
    "            image = Image.open(img_path).convert('RGB')\n",
    "            if self.transform:\n",
    "                image = self.transform(image)\n",
    "            return image, label\n",
    "        except Exception as e:\n",
    "            print(f\"Error loading image {img_path}: {str(e)}\")\n",
    "            if retry < 3:\n",
    "                return self.__getitem__(random.randint(0, len(self)-1), retry=retry+1)\n",
    "            else:\n",
    "                raise RuntimeError(\"Too many failed image loads.\")\n"
   ]
  },
  {
   "cell_type": "code",
   "execution_count": 6,
   "id": "1821402f",
   "metadata": {},
   "outputs": [],
   "source": [
    "classes = ['Badminton', 'Cricket', 'Tennis', 'Swimming', 'Soccer', 'Wrestling', 'Karate']"
   ]
  },
  {
   "cell_type": "code",
   "execution_count": 7,
   "id": "87f604c8",
   "metadata": {},
   "outputs": [
    {
     "data": {
      "text/plain": [
       "'../data/dataset/train/'"
      ]
     },
     "execution_count": 7,
     "metadata": {},
     "output_type": "execute_result"
    }
   ],
   "source": [
    "train_dir"
   ]
  },
  {
   "cell_type": "markdown",
   "id": "c884ec5e",
   "metadata": {},
   "source": [
    "## Model 1: Simple CNN1"
   ]
  },
  {
   "cell_type": "code",
   "execution_count": null,
   "id": "e6c4c8be",
   "metadata": {},
   "outputs": [],
   "source": [
    "class SimpleNet1(nn.Module):\n",
    "    def __init__(self, num_classes=7):\n",
    "        super(SimpleNet1, self).__init__()\n",
    "        self.features = nn.Sequential(\n",
    "            nn.Conv2d(3, 64, kernel_size=3, stride=2), # 128 128 3 -> 63 63 64\n",
    "            nn.BatchNorm2d(64),\n",
    "            nn.ReLU(inplace=True),\n",
    "            nn.MaxPool2d(kernel_size=3, stride=2),  # 63 63 64 -> 31 31 64\n",
    "            nn.Conv2d(64, 128, kernel_size=3, stride=2),  # 31 31 64 -> 14 14 128\n",
    "            nn.BatchNorm2d(128),\n",
    "            nn.ReLU(inplace=True),\n",
    "            nn.MaxPool2d(kernel_size=3, stride=2), #   14 14 128 -> 7 7 128\n",
    "            nn.Conv2d(128, 256, kernel_size=3, stride=2), # 7 7 128 -> 3 3 256\n",
    "            nn.BatchNorm2d(256),\n",
    "            nn.ReLU(inplace=True),\n",
    "        )\n",
    "        self.classifier = nn.Sequential(\n",
    "            nn.Flatten(),\n",
    "            nn.Linear(2304, 512),\n",
    "            nn.Dropout(0.5),\n",
    "            nn.ReLU(inplace=True),\n",
    "            nn.Linear(512, 256),\n",
    "            nn.Dropout(0.5),\n",
    "            nn.ReLU(inplace=True),\n",
    "            nn.Linear(256, 128),\n",
    "            nn.Dropout(0.5),\n",
    "            nn.ReLU(inplace=True),\n",
    "            nn.Linear(128, 64),\n",
    "            nn.Dropout(0.5),\n",
    "            nn.ReLU(inplace=True),\n",
    "            nn.Linear(64, num_classes),\n",
    "        )\n",
    "    def forward(self, x):\n",
    "        x = self.features(x)\n",
    "        x = self.classifier(x)\n",
    "        return x"
   ]
  },
  {
   "cell_type": "markdown",
   "id": "5e2186cb",
   "metadata": {},
   "source": [
    "## Model 2: Simple CNN2"
   ]
  },
  {
   "cell_type": "code",
   "execution_count": 18,
   "id": "907fbf61",
   "metadata": {},
   "outputs": [],
   "source": [
    "class SimpleNet2(nn.Module):\n",
    "    def __init__(self, num_classes=7):\n",
    "        super(SimpleNet2, self).__init__()\n",
    "        self.features = nn.Sequential(\n",
    "            nn.Conv2d(3, 16, kernel_size=3, stride=2), # 128 128 3 -> 63 63 64\n",
    "            nn.BatchNorm2d(16),\n",
    "            nn.ReLU(inplace=True),\n",
    "            nn.MaxPool2d(kernel_size=3, stride=2),  # 63 63 64 -> 31 31 64\n",
    "            nn.Conv2d(16, 32, kernel_size=3, stride=2),  # 31 31 64 -> 14 14 128\n",
    "            nn.BatchNorm2d(32),\n",
    "            nn.ReLU(inplace=True),\n",
    "            nn.MaxPool2d(kernel_size=3, stride=2), #   14 14 128 -> 7 7 128\n",
    "            nn.Conv2d(32, 64, kernel_size=3, stride=2), # 7 7 128 -> 3 3 256\n",
    "            nn.BatchNorm2d(64),\n",
    "            nn.ReLU(inplace=True),\n",
    "        )\n",
    "        self.classifier = nn.Sequential(\n",
    "            nn.Flatten(),\n",
    "            nn.Linear(576, 288),\n",
    "            nn.ReLU(inplace=True),\n",
    "            nn.Linear(288, 144),\n",
    "            nn.ReLU(inplace=True),\n",
    "            nn.Linear(144, 72),\n",
    "            nn.ReLU(inplace=True),\n",
    "            nn.Linear(72, 36),\n",
    "            nn.ReLU(inplace=True),\n",
    "            nn.Linear(36, 18),\n",
    "            nn.ReLU(inplace=True),\n",
    "            nn.Linear(18, num_classes),\n",
    "        )\n",
    "    def forward(self, x):\n",
    "        x = self.features(x)\n",
    "        x = self.classifier(x)\n",
    "        return x"
   ]
  },
  {
   "cell_type": "markdown",
   "id": "49c90d26",
   "metadata": {},
   "source": [
    "## Model 3: Simple CNN3"
   ]
  },
  {
   "cell_type": "code",
   "execution_count": 10,
   "id": "c72b6442",
   "metadata": {},
   "outputs": [],
   "source": [
    "class SimpleNet3(nn.Module):\n",
    "    def __init__(self, num_classes=7):\n",
    "        super(SimpleNet3, self).__init__()\n",
    "        self.features = nn.Sequential(\n",
    "            nn.Conv2d(3, 64, kernel_size=3, stride=2, padding=1), \n",
    "            nn.ReLU(inplace=True),\n",
    "            nn.MaxPool2d(kernel_size=3, stride=2),  \n",
    "            nn.Conv2d(64, 128, kernel_size=3, stride=2, padding=1),  \n",
    "            nn.ReLU(inplace=True),\n",
    "            nn.MaxPool2d(kernel_size=3, stride=2, padding=1), \n",
    "            nn.Conv2d(128, 256, kernel_size=3, stride=2, padding=1), \n",
    "            nn.ReLU(inplace=True), # 3 3 256\n",
    "        )\n",
    "        self.classifier = nn.Sequential(\n",
    "            nn.AdaptiveAvgPool2d((1, 1)),\n",
    "            nn.Flatten(),\n",
    "            nn.Linear(256, 128),\n",
    "            nn.ReLU(inplace=True),\n",
    "            nn.Linear(128, 64),\n",
    "            nn.ReLU(inplace=True),\n",
    "            nn.Linear(64, num_classes)\n",
    "        )\n",
    "    def forward(self, x):\n",
    "        x = self.features(x)\n",
    "        x = self.classifier(x)\n",
    "        return x"
   ]
  },
  {
   "cell_type": "markdown",
   "id": "73e0429e",
   "metadata": {},
   "source": [
    "# Training the models"
   ]
  },
  {
   "cell_type": "code",
   "execution_count": 11,
   "id": "2864c76a",
   "metadata": {},
   "outputs": [],
   "source": [
    "# Adding validation function\n",
    "def validate_model(model, val_loader, criterion):\n",
    "    model.eval()\n",
    "    val_loss = 0\n",
    "    correct = 0\n",
    "    total = 0\n",
    "    with torch.no_grad():\n",
    "        for inputs, labels in val_loader:\n",
    "            inputs, labels = inputs.to(device), labels.to(device)\n",
    "            outputs = model(inputs)\n",
    "            loss = criterion(outputs, labels)\n",
    "            val_loss += loss.item()\n",
    "            _, predicted = outputs.max(1)\n",
    "            total += labels.size(0)\n",
    "            correct += predicted.eq(labels).sum().item()\n",
    "    return val_loss / len(val_loader), 100. * correct / total\n"
   ]
  },
  {
   "cell_type": "code",
   "execution_count": null,
   "id": "3f69c547",
   "metadata": {},
   "outputs": [],
   "source": [
    "def train_model(model, train_loader, val_loader, optimizer, criterion, epochs=10, patience=3):\n",
    "    model.train()\n",
    "    scheduler = optim.lr_scheduler.ReduceLROnPlateau(optimizer, 'min', patience=2)\n",
    "    best_val_loss = float('inf')\n",
    "    patience_counter = 0\n",
    "\n",
    "    device = next(model.parameters()).device\n",
    "\n",
    "    total_batches = len(train_loader)\n",
    "    total_steps = epochs * total_batches\n",
    "\n",
    "    progress_bar = tqdm(total=total_steps, desc=\"Training\", dynamic_ncols=True)\n",
    "    train_epoch_vals_loss = []\n",
    "    val_epoch_vals_loss = []\n",
    "    train_epoch_vals_acc = []\n",
    "    val_epoch_vals_acc = []\n",
    "    for epoch in range(epochs):\n",
    "        model.train()\n",
    "        running_loss = 0.0\n",
    "        correct = 0\n",
    "        total = 0\n",
    "\n",
    "        # Reset per-epoch storage\n",
    "        train_loss_iter = []\n",
    "        train_acc_iter = []\n",
    "\n",
    "        for i, (inputs, labels) in enumerate(train_loader):\n",
    "            inputs, labels = inputs.to(device), labels.to(device)\n",
    "            optimizer.zero_grad()\n",
    "            outputs = model(inputs)\n",
    "            loss = criterion(outputs, labels)\n",
    "            loss.backward()\n",
    "            optimizer.step()\n",
    "\n",
    "            running_loss += loss.item()\n",
    "            _, predicted = outputs.max(1)\n",
    "            total += labels.size(0)\n",
    "            correct += predicted.eq(labels).sum().item()\n",
    "\n",
    "            train_loss = running_loss / (i + 1)\n",
    "            train_acc = 100. * correct / total\n",
    "\n",
    "            train_loss_iter.append(train_loss)\n",
    "            train_acc_iter.append(train_acc)\n",
    "\n",
    "            # Update per iteration\n",
    "            progress_bar.update(1)\n",
    "            progress_bar.set_postfix({\n",
    "                'Epoch': f'{epoch+1}/{epochs}',\n",
    "                'Iter': f'{i+1}/{total_batches}',\n",
    "                'Train Loss': f'{train_loss:.4f}',\n",
    "                'Train Acc': f'{train_acc:.2f}%'\n",
    "            })\n",
    "\n",
    "        # Validation phase (only ONCE per epoch)\n",
    "        val_loss, val_acc = validate_model(model, val_loader, criterion)\n",
    "\n",
    "        # Update after epoch ends\n",
    "        progress_bar.set_postfix({\n",
    "            'Epoch': f'{epoch+1}/{epochs}',\n",
    "            'Iter': f'{total_batches}/{total_batches}',\n",
    "            'Train Loss': f'{sum(train_loss_iter)/len(train_loss_iter):.4f}',\n",
    "            'Train Acc': f'{sum(train_acc_iter)/len(train_acc_iter):.2f}%',\n",
    "            'Val Loss': f'{val_loss:.4f}',\n",
    "            'Val Acc': f'{val_acc:.2f}%'\n",
    "        })\n",
    "\n",
    "        scheduler.step(val_loss)\n",
    "        \n",
    "        train_epoch_vals_loss.append(sum(train_loss_iter)/len(train_loss_iter))\n",
    "        val_epoch_vals_loss.append(val_loss)\n",
    "        train_epoch_vals_acc.append(sum(train_acc_iter)/len(train_acc_iter))\n",
    "        val_epoch_vals_acc.append(val_acc)\n",
    "\n",
    "        # Early stopping\n",
    "        if val_loss < best_val_loss:\n",
    "            best_val_loss = val_loss\n",
    "            patience_counter = 0\n",
    "        else:\n",
    "            patience_counter += 1\n",
    "            if patience_counter >= patience:\n",
    "                progress_bar.set_description(\"Early Stopping\")\n",
    "                break\n",
    "\n",
    "    progress_bar.close()\n",
    "    return train_epoch_vals_loss, val_epoch_vals_loss, train_epoch_vals_acc, val_epoch_vals_acc\n"
   ]
  },
  {
   "cell_type": "code",
   "execution_count": 13,
   "id": "ceba7351",
   "metadata": {},
   "outputs": [],
   "source": [
    "batch_size = 32\n",
    "train_dataset = ImageDataset(root_dir=train_dir, classes=classes, is_train=True)\n",
    "test_dataset = ImageDataset(root_dir=test_dir, classes=classes, is_train=False)"
   ]
  },
  {
   "cell_type": "code",
   "execution_count": 14,
   "id": "16a0dff6",
   "metadata": {},
   "outputs": [],
   "source": [
    "# Split training data into train and validation sets\n",
    "train_size = int(0.8 * len(train_dataset))\n",
    "val_size = len(train_dataset) - train_size\n",
    "train_subset, val_subset = random_split(train_dataset, [train_size, val_size])"
   ]
  },
  {
   "cell_type": "code",
   "execution_count": 15,
   "id": "a755cbe9",
   "metadata": {},
   "outputs": [],
   "source": [
    "train_loader = DataLoader(\n",
    "    train_subset,\n",
    "    batch_size=batch_size,\n",
    "    shuffle=True,\n",
    "    pin_memory=True if torch.cuda.is_available() else False\n",
    ")\n",
    "\n",
    "val_loader = DataLoader(\n",
    "    val_subset,\n",
    "    batch_size=batch_size,\n",
    "    shuffle=False,\n",
    "    pin_memory=True if torch.cuda.is_available() else False\n",
    ")\n"
   ]
  },
  {
   "cell_type": "code",
   "execution_count": 16,
   "id": "36666ef4",
   "metadata": {},
   "outputs": [],
   "source": [
    "lr = 0.001"
   ]
  },
  {
   "cell_type": "code",
   "execution_count": null,
   "id": "1a125b68",
   "metadata": {},
   "outputs": [
    {
     "name": "stderr",
     "output_type": "stream",
     "text": [
      "Training: 100%|██████████| 2060/2060 [09:20<00:00,  3.68it/s, Epoch=10/10, Iter=206/206, Train Loss=1.2778, Train Acc=52.88%, Val Loss=1.4073, Val Acc=47.02%]\n"
     ]
    }
   ],
   "source": [
    "simple_net1 = SimpleNet1().to(device)\n",
    "optimizer1 = optim.Adam(simple_net1.parameters(), lr=lr)\n",
    "criterion1 = nn.CrossEntropyLoss()\n",
    "tain_loss, val_loss, train_acc, val_acc = train_model(simple_net1, train_loader, val_loader, optimizer1, criterion1, epochs=50)"
   ]
  },
  {
   "cell_type": "code",
   "execution_count": null,
   "id": "94f8bf2b",
   "metadata": {},
   "outputs": [
    {
     "name": "stderr",
     "output_type": "stream",
     "text": [
      "Training: 100%|██████████| 2060/2060 [08:54<00:00,  3.85it/s, Epoch=10/10, Iter=206/206, Train Loss=1.2260, Train Acc=54.39%, Val Loss=1.3533, Val Acc=51.76%] \n"
     ]
    }
   ],
   "source": [
    "simple_net2 = SimpleNet2().to(device)\n",
    "criterion2 = nn.CrossEntropyLoss()\n",
    "optimizer2 = optim.Adam(simple_net2.parameters(), lr=lr)\n",
    "train_loss, val_loss, train_acc, val_acc = train_model(simple_net2, train_loader, val_loader, optimizer2, criterion2, epochs=10)"
   ]
  },
  {
   "cell_type": "code",
   "execution_count": null,
   "id": "c0c4012f",
   "metadata": {},
   "outputs": [
    {
     "name": "stderr",
     "output_type": "stream",
     "text": [
      "Training: 100%|██████████| 2060/2060 [09:09<00:00,  3.75it/s, Epoch=10/10, Iter=206/206, Train Loss=1.0215, Train Acc=63.43%, Val Loss=1.1773, Val Acc=56.93%]\n"
     ]
    }
   ],
   "source": [
    "simple_net3 = SimpleNet3().to(device)\n",
    "criterion = nn.CrossEntropyLoss()\n",
    "optimizer = optim.Adam(simple_net3.parameters(), lr=lr)\n",
    "train_loss, val_loss, train_acc, val_acc = train_model(simple_net3, train_loader, val_loader, optimizer, criterion, epochs=10)"
   ]
  }
 ],
 "metadata": {
  "kernelspec": {
   "display_name": "Python 3",
   "language": "python",
   "name": "python3"
  },
  "language_info": {
   "codemirror_mode": {
    "name": "ipython",
    "version": 3
   },
   "file_extension": ".py",
   "mimetype": "text/x-python",
   "name": "python",
   "nbconvert_exporter": "python",
   "pygments_lexer": "ipython3",
   "version": "3.13.2"
  }
 },
 "nbformat": 4,
 "nbformat_minor": 5
}
