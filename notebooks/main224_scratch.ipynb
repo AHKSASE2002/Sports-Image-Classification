{
 "cells": [
  {
   "cell_type": "markdown",
   "id": "df544dd3",
   "metadata": {},
   "source": [
    "## Imports"
   ]
  },
  {
   "cell_type": "code",
   "execution_count": 1,
   "id": "1da1b323",
   "metadata": {},
   "outputs": [],
   "source": [
    "# import kagglehub\n",
    "import os\n",
    "import shutil\n",
    "import pandas as pd\n",
    "import numpy as np\n",
    "import matplotlib.pyplot as plt\n",
    "import seaborn as sns\n",
    "import torch.nn as nn\n",
    "import torch.optim as optim\n",
    "import torch.nn.functional as F\n",
    "import torch\n",
    "from torch.utils.data import Dataset, DataLoader\n",
    "from sklearn.model_selection import train_test_split\n",
    "from transformers import CLIPProcessor, CLIPModel\n",
    "from PIL import Image\n",
    "from tqdm import tqdm\n",
    "from torch.utils.data import Dataset, DataLoader, random_split\n",
    "import torchvision.models as models\n",
    "import torchvision.transforms as T\n",
    "import random\n",
    "import optuna\n",
    "from optuna.trial import TrialState"
   ]
  },
  {
   "cell_type": "code",
   "execution_count": 2,
   "id": "549f1bfe",
   "metadata": {},
   "outputs": [],
   "source": [
    "# path = kagglehub.dataset_download(\"sidharkal/sports-image-classification\")\n",
    "\n",
    "# print(\"Path to dataset files:\", path)"
   ]
  },
  {
   "cell_type": "code",
   "execution_count": 3,
   "id": "bdf88933",
   "metadata": {},
   "outputs": [],
   "source": [
    "data_dir = \"../data\"\n",
    "images_dir = \"../data/dataset/\"\n",
    "train_dir = images_dir + \"train/\"\n",
    "\n",
    "badminton_train_dir = train_dir + \"Badminton/\"\n",
    "tennis_train_dir = train_dir + \"Tennis/\"\n",
    "cricket_train_dir = train_dir + \"Cricket/\"\n",
    "soccer_train_dir = train_dir + \"Soccer/\"\n",
    "swimming_train_dir = train_dir + \"Swimming/\"\n",
    "karate_train_dir = train_dir + \"Karate/\"\n",
    "wrestling_train_dir = train_dir + \"Wrestling/\"\n",
    "\n",
    "test_dir = images_dir + \"test/\"\n",
    "\n",
    "badminton_test_dir = test_dir + \"Badminton/\"\n",
    "tennis_test_dir = test_dir + \"Tennis/\"\n",
    "cricket_test_dir = test_dir + \"Cricket/\"\n",
    "soccer_test_dir = test_dir + \"Soccer/\"\n",
    "swimming_test_dir = test_dir + \"Swimming/\"\n",
    "karate_test_dir = test_dir + \"Karate/\"\n",
    "wrestling_test_dir = test_dir + \"Wrestling/\"\n",
    "\n",
    "device = torch.device(\"cuda\" if torch.cuda.is_available() else \"cpu\")"
   ]
  },
  {
   "cell_type": "code",
   "execution_count": 4,
   "id": "5fb00c8e",
   "metadata": {},
   "outputs": [
    {
     "data": {
      "text/plain": [
       "<torch._C.Generator at 0x242556b5bd0>"
      ]
     },
     "execution_count": 4,
     "metadata": {},
     "output_type": "execute_result"
    }
   ],
   "source": [
    "torch.manual_seed(42)"
   ]
  },
  {
   "cell_type": "code",
   "execution_count": 5,
   "id": "b7f94437",
   "metadata": {},
   "outputs": [],
   "source": [
    "# shutil.copytree(path, data_dir, dirs_exist_ok=True)"
   ]
  },
  {
   "cell_type": "markdown",
   "id": "6fd987c4",
   "metadata": {},
   "source": [
    "## Organizing Data structure"
   ]
  },
  {
   "cell_type": "code",
   "execution_count": null,
   "id": "2acc0990",
   "metadata": {},
   "outputs": [],
   "source": [
    "# checking the train.csv , test.csv\n",
    "train_df = pd.read_csv(images_dir +\"/train.csv\")\n",
    "test_df = pd.read_csv(images_dir +\"/test.csv\")"
   ]
  },
  {
   "cell_type": "code",
   "execution_count": null,
   "id": "ad95c9d1",
   "metadata": {},
   "outputs": [],
   "source": [
    "test_df"
   ]
  },
  {
   "cell_type": "code",
   "execution_count": null,
   "id": "1e84d3b8",
   "metadata": {},
   "outputs": [],
   "source": [
    "train_df"
   ]
  },
  {
   "cell_type": "code",
   "execution_count": null,
   "id": "5c190640",
   "metadata": {},
   "outputs": [],
   "source": [
    "train_df.set_index(\"image_ID\", inplace=True), test_df.set_index(\"image_ID\", inplace=True)"
   ]
  },
  {
   "cell_type": "markdown",
   "id": "6c8c6d25",
   "metadata": {},
   "source": [
    "### Moving data to be per label"
   ]
  },
  {
   "cell_type": "code",
   "execution_count": null,
   "id": "7dee150d",
   "metadata": {},
   "outputs": [],
   "source": [
    "labels = train_df[\"label\"].unique()\n",
    "\n",
    "for label in labels:\n",
    "    os.makedirs(train_dir + label, exist_ok=True)\n",
    "    os.makedirs(test_dir + label, exist_ok=True)"
   ]
  },
  {
   "cell_type": "code",
   "execution_count": null,
   "id": "8874695e",
   "metadata": {},
   "outputs": [],
   "source": [
    "labels"
   ]
  },
  {
   "cell_type": "code",
   "execution_count": null,
   "id": "f3e31640",
   "metadata": {},
   "outputs": [],
   "source": [
    "train_df.loc['7c225f7b61.jpg']['label']"
   ]
  },
  {
   "cell_type": "code",
   "execution_count": null,
   "id": "5cecaf02",
   "metadata": {},
   "outputs": [],
   "source": [
    "print(train_dir)"
   ]
  },
  {
   "cell_type": "code",
   "execution_count": null,
   "id": "8b94fe2d",
   "metadata": {},
   "outputs": [],
   "source": [
    "for i in range(len(train_df)):\n",
    "    image_id = train_df.index[i]\n",
    "    label = train_df['label'][i]\n",
    "    old_path = train_dir + image_id\n",
    "    new_path = train_dir + label + \"/\" + image_id\n",
    "    if os.path.exists(old_path):\n",
    "        shutil.move(old_path, new_path)"
   ]
  },
  {
   "cell_type": "markdown",
   "id": "11f3972a",
   "metadata": {},
   "source": [
    "### Labeling Test data as it was unlabeled"
   ]
  },
  {
   "cell_type": "code",
   "execution_count": null,
   "id": "4f1efbd3",
   "metadata": {},
   "outputs": [],
   "source": [
    "os.environ[\"HF_HUB_DISABLE_SYMLINKS_WARNING\"] = \"1\"\n",
    "\n",
    "model = CLIPModel.from_pretrained(\"openai/clip-vit-base-patch32\").to(device)\n",
    "processor = CLIPProcessor.from_pretrained(\"openai/clip-vit-base-patch32\")\n",
    "\n",
    "classes = ['Badminton', 'Cricket', 'Tennis', 'Swimming', 'Soccer', 'Wrestling', 'Karate']\n",
    "\n",
    "def classify_with_clip(image_path):\n",
    "    image = Image.open(image_path).convert(\"RGB\")\n",
    "    inputs = processor(text=classes, images=image, return_tensors=\"pt\", padding=True)\n",
    "    inputs = {k: v.to(device) for k, v in inputs.items()}\n",
    "    outputs = model(**inputs)\n",
    "    logits_per_image = outputs.logits_per_image \n",
    "    probs = logits_per_image.softmax(dim=1)\n",
    "    pred = probs.argmax()\n",
    "    return classes[pred]"
   ]
  },
  {
   "cell_type": "code",
   "execution_count": null,
   "id": "3ae52915",
   "metadata": {},
   "outputs": [],
   "source": [
    "for i in tqdm(range(len(test_df))):\n",
    "    image_id = test_df.index[i]\n",
    "    image_path = test_dir + image_id\n",
    "    if not os.path.exists(image_path):\n",
    "        continue\n",
    "    label = classify_with_clip(image_path)\n",
    "    test_df.at[image_id, 'label'] = label\n",
    "    new_path = test_dir + label + \"/\" + image_id\n",
    "    if os.path.exists(image_path):\n",
    "        shutil.move(image_path, new_path)\n"
   ]
  },
  {
   "cell_type": "markdown",
   "id": "7c14467c",
   "metadata": {},
   "source": [
    "## Statistics from the data"
   ]
  },
  {
   "cell_type": "markdown",
   "id": "33f5b7a6",
   "metadata": {},
   "source": [
    "### Checking distribution of classes"
   ]
  },
  {
   "cell_type": "code",
   "execution_count": null,
   "id": "764cc121",
   "metadata": {},
   "outputs": [],
   "source": [
    "\n",
    "classes = ['Badminton', 'Cricket', 'Tennis', 'Swimming', 'Soccer', 'Wrestling', 'Karate']\n",
    "\n",
    "train_dirs = [train_dir + cls + \"/\" for cls in classes]\n",
    "test_dirs = [test_dir + cls + \"/\" for cls in classes]\n",
    "\n",
    "train_counts = [len(os.listdir(d)) if os.path.exists(d) else 0 for d in train_dirs]\n",
    "test_counts = [len(os.listdir(d)) if os.path.exists(d) else 0 for d in test_dirs]\n",
    "\n",
    "fig, axs = plt.subplots(1, 2, figsize=(16, 6))\n",
    "\n",
    "axs[0].bar(classes, train_counts, color='skyblue')\n",
    "axs[0].set_title('Train Class Distribution')\n",
    "axs[0].set_xlabel('Class')\n",
    "axs[0].set_ylabel('Number of Images')\n",
    "axs[0].tick_params(axis='x', rotation=45)\n",
    "\n",
    "axs[1].bar(classes, test_counts, color='lightgreen')\n",
    "axs[1].set_title('Test Class Distribution')\n",
    "axs[1].set_xlabel('Class')\n",
    "axs[1].set_ylabel('Number of Images')\n",
    "axs[1].tick_params(axis='x', rotation=45)\n",
    "\n",
    "plt.tight_layout()\n",
    "plt.show()\n"
   ]
  },
  {
   "cell_type": "markdown",
   "id": "ebf74727",
   "metadata": {},
   "source": [
    "### Per class statistics"
   ]
  },
  {
   "cell_type": "code",
   "execution_count": null,
   "id": "7cf0df3d",
   "metadata": {},
   "outputs": [],
   "source": [
    "x = np.arange(len(classes))  \n",
    "width = 0.35  \n",
    "\n",
    "fig, ax = plt.subplots(figsize=(12, 6))\n",
    "rects1 = ax.bar(x - width/2, train_counts, width, label='Train', color='skyblue')\n",
    "rects2 = ax.bar(x + width/2, test_counts, width, label='Test', color='lightgreen')\n",
    "\n",
    "ax.set_ylabel('Number of Images')\n",
    "ax.set_title('Per-Class Distribution: Train vs Test')\n",
    "ax.set_xticks(x)\n",
    "ax.set_xticklabels(classes, rotation=45)\n",
    "ax.legend()\n",
    "\n",
    "def annotate_bars(rects):\n",
    "    for rect in rects:\n",
    "        height = rect.get_height()\n",
    "        ax.annotate(f'{height}',\n",
    "                    xy=(rect.get_x() + rect.get_width() / 2, height),\n",
    "                    xytext=(0, 3),  \n",
    "                    textcoords=\"offset points\",\n",
    "                    ha='center', va='bottom', fontsize=8)\n",
    "\n",
    "annotate_bars(rects1)\n",
    "annotate_bars(rects2)\n",
    "\n",
    "plt.tight_layout()\n",
    "plt.show()"
   ]
  },
  {
   "cell_type": "markdown",
   "id": "ada6fd0e",
   "metadata": {},
   "source": [
    "### Pixel Value Distribution"
   ]
  },
  {
   "cell_type": "code",
   "execution_count": null,
   "id": "2de3b064",
   "metadata": {},
   "outputs": [],
   "source": [
    "class_brightness = {cls: [] for cls in classes}\n",
    "\n",
    "for cls, folder in zip(classes, train_dirs):\n",
    "    if not os.path.exists(folder):\n",
    "        continue\n",
    "    for img_file in os.listdir(folder):\n",
    "        img_path = os.path.join(folder, img_file)\n",
    "        try:\n",
    "            img = Image.open(img_path).convert(\"L\")  \n",
    "            img_arr = np.array(img)\n",
    "            mean_brightness = img_arr.mean()\n",
    "            class_brightness[cls].append(mean_brightness)\n",
    "        except Exception as e:\n",
    "            print(f\"Failed to process {img_path}: {e}\")\n",
    "\n",
    "# Plot distributions\n",
    "fig, axs = plt.subplots(len(classes), 1, figsize=(8, len(classes)*3))\n",
    "\n",
    "for idx, cls in enumerate(tqdm(classes)):\n",
    "    axs[idx].hist(class_brightness[cls], bins=30, color='skyblue', edgecolor='black', density=True)\n",
    "    axs[idx].set_title(f'Pixel Distribution: {cls}')\n",
    "    axs[idx].set_xlabel('Mean Pixel Values')\n",
    "    axs[idx].set_ylabel('Density')\n",
    "\n",
    "plt.tight_layout()\n",
    "plt.show()"
   ]
  },
  {
   "cell_type": "markdown",
   "id": "4ced7447",
   "metadata": {},
   "source": [
    "- Pixels values are distributed well across all the images meaning that the images are not too dark or too bright.\n",
    "- Thus images is considered to be well exposed and not too dark or too bright so little noise are added."
   ]
  },
  {
   "cell_type": "markdown",
   "id": "70951540",
   "metadata": {},
   "source": [
    "## Showing some images per class"
   ]
  },
  {
   "cell_type": "code",
   "execution_count": null,
   "id": "978da631",
   "metadata": {},
   "outputs": [],
   "source": [
    "fig, axs = plt.subplots(len(classes), 2, figsize=(8, len(classes) * 3))\n",
    "\n",
    "for row_idx, (cls, folder) in enumerate(zip(classes, train_dirs)):\n",
    "    if not os.path.exists(folder):\n",
    "        continue\n",
    "    images = [f for f in os.listdir(folder) if f.lower().endswith(('jpg', 'jpeg', 'png'))]\n",
    "    selected_images = images[:2]  \n",
    "    for col_idx in range(2):\n",
    "        if col_idx < len(selected_images):\n",
    "            img_path = os.path.join(folder, selected_images[col_idx])\n",
    "            img = Image.open(img_path)\n",
    "            axs[row_idx, col_idx].imshow(img)\n",
    "            axs[row_idx, col_idx].axis('off')\n",
    "            if col_idx == 0:\n",
    "                axs[row_idx, col_idx].set_title(f\"{cls} - Sample 1\")\n",
    "            else:\n",
    "                axs[row_idx, col_idx].set_title(f\"{cls} - Sample 2\")\n",
    "        else:\n",
    "            axs[row_idx, col_idx].axis('off')\n",
    "\n",
    "plt.tight_layout()\n",
    "plt.show()"
   ]
  },
  {
   "cell_type": "markdown",
   "id": "ed47f18e",
   "metadata": {},
   "source": [
    "## Dataset class and data manager"
   ]
  },
  {
   "cell_type": "markdown",
   "id": "045a9fcb",
   "metadata": {},
   "source": [
    "### Dataset class 1"
   ]
  },
  {
   "cell_type": "code",
   "execution_count": 6,
   "id": "b6a4878c",
   "metadata": {},
   "outputs": [],
   "source": [
    "classes = ['Badminton', 'Cricket', 'Tennis', 'Swimming', 'Soccer', 'Wrestling', 'Karate']"
   ]
  },
  {
   "cell_type": "code",
   "execution_count": 7,
   "id": "0441cc12",
   "metadata": {},
   "outputs": [],
   "source": [
    "class ImageDataset1(Dataset):\n",
    "    def __init__(self, root_dir, classes, transform=None, is_train=True):\n",
    "        \"\"\"\n",
    "        Args:\n",
    "            root_dir (str): Directory with all the class folders\n",
    "            classes (list): List of class names (subfolder names)\n",
    "            transform (callable, optional): Optional transform to be applied on a sample\n",
    "            is_train (bool): Whether this is training data or not\n",
    "        \"\"\"\n",
    "        self.root_dir = root_dir\n",
    "        self.classes = classes\n",
    "        self.transform = transform\n",
    "        self.is_train = is_train\n",
    "        self.class_to_idx = {cls: idx for idx, cls in enumerate(classes)}\n",
    "        self.samples = []\n",
    "\n",
    "        # Default transforms if none provided\n",
    "        if self.transform is None:\n",
    "            if is_train:\n",
    "                self.transform = T.Compose([\n",
    "                    T.RandomResizedCrop(224), # Resize to 128x128\n",
    "                    # T.RandomHorizontalFlip(),\n",
    "                    # T.RandomRotation(15),\n",
    "                    T.ToTensor(),\n",
    "                ])\n",
    "            else:\n",
    "                self.transform = T.Compose([\n",
    "                    T.Resize(224),\n",
    "                    T.CenterCrop(224), # Resize to 128x128\n",
    "                    T.ToTensor(),\n",
    "                ])\n",
    "\n",
    "        for idx, cls in enumerate(classes):\n",
    "            class_folder = os.path.join(root_dir, cls)\n",
    "            if not os.path.isdir(class_folder):\n",
    "                continue\n",
    "            for img_name in os.listdir(class_folder):\n",
    "                if img_name.lower().endswith(('jpg', 'jpeg', 'png')):\n",
    "                    img_path = os.path.join(class_folder, img_name)\n",
    "                    self.samples.append((img_path, idx))\n",
    "\n",
    "    def __len__(self):\n",
    "        return len(self.samples)\n",
    "\n",
    "    def __getitem__(self, idx, retry=0):\n",
    "        img_path, label = self.samples[idx]\n",
    "        try:\n",
    "            image = Image.open(img_path).convert('RGB')\n",
    "            if self.transform:\n",
    "                image = self.transform(image)\n",
    "            return image, label\n",
    "        except Exception as e:\n",
    "            print(f\"Error loading image {img_path}: {str(e)}\")\n",
    "            if retry < 3:\n",
    "                return self.__getitem__(random.randint(0, len(self)-1), retry=retry+1)\n",
    "            else:\n",
    "                raise RuntimeError(\"Too many failed image loads.\")"
   ]
  },
  {
   "cell_type": "markdown",
   "id": "e67989cb",
   "metadata": {},
   "source": [
    "### Dataset class 2"
   ]
  },
  {
   "cell_type": "code",
   "execution_count": 8,
   "id": "4fb55162",
   "metadata": {},
   "outputs": [],
   "source": [
    "class ImageDataset2(Dataset):\n",
    "    def __init__(self, root_dir, classes, transform=None, is_train=True, split_ratio=0.8, seed=42):\n",
    "        \"\"\"\n",
    "        Args:\n",
    "            root_dir (str): Directory with all the class folders\n",
    "            classes (list): List of class names (subfolder names)\n",
    "            transform (callable, optional): Optional transform to be applied on a sample\n",
    "            is_train (bool): Whether this is training data or not\n",
    "            split_ratio (float): Ratio for training data (default is 0.8)\n",
    "            seed (int): Seed for reproducibility\n",
    "        \"\"\"\n",
    "        self.root_dir = root_dir\n",
    "        self.classes = classes\n",
    "        self.transform = transform\n",
    "        self.is_train = is_train\n",
    "        self.class_to_idx = {cls: idx for idx, cls in enumerate(classes)}\n",
    "        self.samples = []\n",
    "\n",
    "        all_samples = []\n",
    "        for idx, cls in enumerate(classes):\n",
    "            class_folder = os.path.join(root_dir, cls)\n",
    "            if not os.path.isdir(class_folder):\n",
    "                continue\n",
    "            for img_name in os.listdir(class_folder):\n",
    "                if img_name.lower().endswith(('jpg', 'jpeg', 'png')):\n",
    "                    img_path = os.path.join(class_folder, img_name)\n",
    "                    all_samples.append((img_path, idx))\n",
    "\n",
    "        # Shuffle and split once\n",
    "        random.seed(seed)\n",
    "        random.shuffle(all_samples)\n",
    "        split_point = int(len(all_samples) * split_ratio)\n",
    "        if is_train:\n",
    "            self.samples = all_samples[:split_point]\n",
    "        else:\n",
    "            self.samples = all_samples[split_point:]\n",
    "\n",
    "        # Set default transforms if not provided\n",
    "        if self.transform is None:\n",
    "            if is_train:\n",
    "                self.transform = T.Compose([\n",
    "                    T.RandomResizedCrop(224),\n",
    "                    T.ToTensor(),\n",
    "                ])\n",
    "            else:\n",
    "                self.transform = T.Compose([\n",
    "                    T.Resize(224),\n",
    "                    T.CenterCrop(224),\n",
    "                    T.ToTensor(),\n",
    "                ])\n",
    "\n",
    "    def __len__(self):\n",
    "        return len(self.samples)\n",
    "\n",
    "    def __getitem__(self, idx, retry=0):\n",
    "        img_path, label = self.samples[idx]\n",
    "        try:\n",
    "            image = Image.open(img_path).convert('RGB')\n",
    "            if self.transform:\n",
    "                image = self.transform(image)\n",
    "            return image, label\n",
    "        except Exception as e:\n",
    "            print(f\"Error loading image {img_path}: {str(e)}\")\n",
    "            if retry < 3:\n",
    "                return self.__getitem__(random.randint(0, len(self)-1), retry=retry+1)\n",
    "            else:\n",
    "                raise RuntimeError(\"Too many failed image loads.\")"
   ]
  },
  {
   "cell_type": "code",
   "execution_count": 9,
   "id": "dbe87c48",
   "metadata": {},
   "outputs": [],
   "source": [
    "classes = ['Badminton', 'Cricket', 'Tennis', 'Swimming', 'Soccer', 'Wrestling', 'Karate']"
   ]
  },
  {
   "cell_type": "markdown",
   "id": "d1e39779",
   "metadata": {},
   "source": [
    "# Modelling"
   ]
  },
  {
   "cell_type": "markdown",
   "id": "84afb3d6",
   "metadata": {},
   "source": [
    "### Model 1: Simple CNN1"
   ]
  },
  {
   "cell_type": "code",
   "execution_count": 10,
   "id": "744d80e9",
   "metadata": {},
   "outputs": [],
   "source": [
    "class Simplenet1(nn.Module):\n",
    "    def __init__(self, num_classes=7):\n",
    "        super(Simplenet1, self).__init__()\n",
    "        self.features = nn.Sequential(\n",
    "            nn.Conv2d(3, 64, kernel_size=3, padding=1), # 128 128 3 -> 128 128 64 \n",
    "            nn.BatchNorm2d(64),\n",
    "            nn.ReLU(inplace=True),\n",
    "            nn.MaxPool2d(2), # 128 128 64 -> 64 64 64\n",
    "            \n",
    "            nn.Conv2d(64, 128, kernel_size=3, padding=1), # 64 64 64 -> 64 64 128\n",
    "            nn.BatchNorm2d(128),\n",
    "            nn.ReLU(inplace=True),\n",
    "            nn.MaxPool2d(2), # 64 64 128 -> 32 32 128\n",
    "            \n",
    "            nn.Conv2d(128, 256, kernel_size=3, padding=1), # 32 32 128 -> 32 32 256\n",
    "            nn.BatchNorm2d(256),\n",
    "            nn.ReLU(inplace=True),\n",
    "            nn.MaxPool2d(2), # 32 32 256 -> 16 16 256\n",
    "            \n",
    "            nn.Conv2d(256, 512, kernel_size=3, padding=1), # 16 16 256 -> 16 16 512\n",
    "            nn.BatchNorm2d(512),\n",
    "            nn.ReLU(inplace=True),\n",
    "            nn.MaxPool2d(2), # 16 16 512 -> 8 8 512\n",
    "        )\n",
    "        self.classifier = nn.Sequential(\n",
    "            nn.AdaptiveAvgPool2d((1, 1)), # 8 8 512 -> 1 1 512\n",
    "            nn.Flatten(), # 1 1 512 -> 512\n",
    "            nn.Linear(512, 256), # 512 -> 256\n",
    "            nn.ReLU(inplace=True),\n",
    "            nn.Dropout(0.5), # Dropout layer\n",
    "            nn.Linear(256, 128), # 256 -> 128\n",
    "            nn.ReLU(inplace=True),\n",
    "            nn.Dropout(0.5), # Dropout layer\n",
    "            nn.Linear(128, num_classes), # 128 -> num_classes\n",
    "        )\n",
    "    def forward(self, x):\n",
    "        x = self.features(x)\n",
    "        x = self.classifier(x)\n",
    "        return x"
   ]
  },
  {
   "cell_type": "markdown",
   "id": "9937d1b7",
   "metadata": {},
   "source": [
    "### Model 2: Simple CNN2"
   ]
  },
  {
   "cell_type": "code",
   "execution_count": 11,
   "id": "57adfb95",
   "metadata": {},
   "outputs": [],
   "source": [
    "class Simplenet2(nn.Module):\n",
    "    def __init__(self, num_classes=7):\n",
    "        super(Simplenet2, self).__init__()\n",
    "        self.features = nn.Sequential(\n",
    "            nn.Conv2d(3, 64, kernel_size=3, padding=1, bias=False),  # 224x224x3 -> 224x224x64\n",
    "            nn.BatchNorm2d(64),\n",
    "            nn.LeakyReLU(inplace=True),\n",
    "            nn.Conv2d(64, 64, kernel_size=3, padding=1, bias=False), # 224x224x64 -> 224x224x64\n",
    "            nn.BatchNorm2d(64), \n",
    "            nn.LeakyReLU(inplace=True),\n",
    "            nn.MaxPool2d(2),  # 224x224x64 -> 112x112x64\n",
    "\n",
    "            nn.Conv2d(64, 128, kernel_size=3, padding=1, bias=False),  # 112x112x64 -> 112x112x128\n",
    "            nn.BatchNorm2d(128),\n",
    "            nn.LeakyReLU(inplace=True),\n",
    "            nn.Conv2d(128, 128, kernel_size=3, padding=1, bias=False), # 112x112x128 -> 112x112x128\n",
    "            nn.BatchNorm2d(128),\n",
    "            nn.LeakyReLU(inplace=True),\n",
    "            nn.MaxPool2d(2),  # 112x112x128 -> 56x56x128\n",
    "\n",
    "            nn.Conv2d(128, 256, kernel_size=3, padding=1, bias=False), # 56x56x128 -> 56x56x256\n",
    "            nn.BatchNorm2d(256),\n",
    "            nn.LeakyReLU(inplace=True),\n",
    "            nn.Conv2d(256, 256, kernel_size=3, padding=1, bias=False), # 56x56x256 -> 56x56x256\n",
    "            nn.BatchNorm2d(256),\n",
    "            nn.LeakyReLU(inplace=True),\n",
    "            nn.MaxPool2d(2),  # 56x56x256 -> 28x28x256\n",
    "\n",
    "            nn.Conv2d(256, 512, kernel_size=3, padding=1, bias=False), # 28x28x256 -> 28x28x512\n",
    "            nn.BatchNorm2d(512),\n",
    "            nn.LeakyReLU(inplace=True),\n",
    "            nn.Conv2d(512, 512, kernel_size=3, padding=1, bias=False), # 28x28x512 -> 28x28x512\n",
    "            nn.BatchNorm2d(512),\n",
    "            nn.LeakyReLU(inplace=True),\n",
    "            nn.MaxPool2d(2),  # 28x28x512 -> 14x14x512\n",
    "\n",
    "            nn.Conv2d(512, 256, kernel_size=3, padding=1, bias=False), # 14x14x512 -> 14x14x256\n",
    "            nn.BatchNorm2d(256),\n",
    "            nn.LeakyReLU(inplace=True),\n",
    "            nn.MaxPool2d(2),  # 14x14x256 -> 7x7x256\n",
    "        )\n",
    "\n",
    "        self.classifier = nn.Sequential(\n",
    "            nn.AdaptiveAvgPool2d((1, 1)),  # 7x7x256 -> 1x1x256\n",
    "            nn.Flatten(),  # 1x1x256 -> 256\n",
    "            nn.Linear(256, 512),  # 256 -> 512\n",
    "            nn.LeakyReLU(inplace=True),\n",
    "            nn.Dropout(0.4),\n",
    "            nn.Linear(512, num_classes),  # 512 -> num_classes\n",
    "        )\n",
    "\n",
    "    def forward(self, x):\n",
    "        x = self.features(x)\n",
    "        x = self.classifier(x)\n",
    "        return x"
   ]
  },
  {
   "cell_type": "markdown",
   "id": "6ed47e16",
   "metadata": {},
   "source": [
    "### Model 3: Simple CNN3"
   ]
  },
  {
   "cell_type": "code",
   "execution_count": 12,
   "id": "86e928dd",
   "metadata": {},
   "outputs": [],
   "source": [
    "class SimpleNet3(nn.Module):\n",
    "    def __init__(self, num_classes=7):\n",
    "        super(SimpleNet3, self).__init__()\n",
    "        self.features = nn.Sequential(\n",
    "            nn.Conv2d(3, 16, kernel_size=3, stride=2, padding=1),  # 224x224x3 -> 112x112x16\n",
    "            nn.BatchNorm2d(16),\n",
    "            nn.ReLU(inplace=True),\n",
    "            nn.MaxPool2d(kernel_size=3, stride=2, padding=1),  # 112x112x16 -> 56x56x16\n",
    "\n",
    "            nn.Conv2d(16, 32, kernel_size=3, stride=2, padding=1),  # 56x56x16 -> 28x28x32\n",
    "            nn.BatchNorm2d(32),\n",
    "            nn.ReLU(inplace=True),\n",
    "            nn.MaxPool2d(kernel_size=3, stride=2, padding=1),  # 28x28x32 -> 14x14x32\n",
    "\n",
    "            nn.Conv2d(32, 64, kernel_size=3, stride=2, padding=1),  # 14x14x32 -> 7x7x64\n",
    "            nn.BatchNorm2d(64),\n",
    "            nn.ReLU(inplace=True),\n",
    "        )\n",
    "\n",
    "        self.classifier = nn.Sequential(\n",
    "            nn.AdaptiveAvgPool2d((1, 1)),  # 7x7x64 -> 1x1x64\n",
    "            nn.Flatten(),  # 1x1x64 -> 64\n",
    "            nn.Linear(64, 32),  # 64 -> 32\n",
    "            nn.ReLU(inplace=True),\n",
    "            nn.Linear(32, 16),  # 32 -> 16\n",
    "            nn.ReLU(inplace=True),\n",
    "            nn.Linear(16, num_classes),  # 16 -> num_classes\n",
    "        )\n",
    "\n",
    "    def forward(self, x):\n",
    "        x = self.features(x)\n",
    "        x = self.classifier(x)\n",
    "        return x"
   ]
  },
  {
   "cell_type": "markdown",
   "id": "96b6d285",
   "metadata": {},
   "source": [
    "### Model 4: Simple CNN4"
   ]
  },
  {
   "cell_type": "code",
   "execution_count": 13,
   "id": "3998721f",
   "metadata": {},
   "outputs": [],
   "source": [
    "class SimpleNet4(nn.Module):\n",
    "    def __init__(self, num_classes=7):\n",
    "        super(SimpleNet4, self).__init__()\n",
    "        self.features = nn.Sequential(\n",
    "            nn.Conv2d(3, 32, kernel_size=3, padding=1),  # 224x224x3 -> 224x224x32\n",
    "            nn.BatchNorm2d(32),\n",
    "            nn.ReLU(inplace=True),\n",
    "            nn.MaxPool2d(kernel_size=3, stride=2, padding=1),  # 224x224x32 -> 112x112x32\n",
    "\n",
    "            nn.Conv2d(32, 64, kernel_size=3, padding=1),  # 112x112x32 -> 112x112x64\n",
    "            nn.BatchNorm2d(64),\n",
    "            nn.ReLU(inplace=True),\n",
    "            nn.MaxPool2d(kernel_size=3, stride=2, padding=1),  # 112x112x64 -> 56x56x64\n",
    "\n",
    "            nn.Conv2d(64, 128, kernel_size=3, stride=2, padding=1),  # 56x56x64 -> 28x28x128\n",
    "            nn.BatchNorm2d(128),\n",
    "            nn.ReLU(inplace=True),\n",
    "            nn.MaxPool2d(kernel_size=3, stride=2, padding=1),  # 28x28x128 -> 14x14x128\n",
    "\n",
    "            nn.Conv2d(128, 256, kernel_size=3, stride=2, padding=1),  # 14x14x128 -> 7x7x256\n",
    "            nn.BatchNorm2d(256),\n",
    "            nn.ReLU(inplace=True),\n",
    "        )\n",
    "\n",
    "        self.classifier = nn.Sequential(\n",
    "            nn.AdaptiveAvgPool2d((1, 1)),  # 7x7x256 -> 1x1x256\n",
    "            nn.Flatten(),  # 1x1x256 -> 256\n",
    "            nn.Dropout(0.5),\n",
    "            nn.Linear(256, 128),  # 256 -> 128\n",
    "            nn.ReLU(inplace=True),\n",
    "            nn.Linear(128, 64),  # 128 -> 64\n",
    "            nn.ReLU(inplace=True),\n",
    "            nn.Linear(64, 32),  # 64 -> 32\n",
    "            nn.ReLU(inplace=True),\n",
    "            nn.Linear(32, 16),  # 32 -> 16\n",
    "            nn.ReLU(inplace=True),\n",
    "            nn.Linear(16, num_classes),  # 16 -> num_classes\n",
    "        )\n",
    "\n",
    "    def forward(self, x):\n",
    "        x = self.features(x)\n",
    "        x = self.classifier(x)\n",
    "        return x"
   ]
  },
  {
   "cell_type": "markdown",
   "id": "977e76ad",
   "metadata": {},
   "source": [
    "# Utils for Pretrained"
   ]
  },
  {
   "cell_type": "code",
   "execution_count": 14,
   "id": "01459865",
   "metadata": {},
   "outputs": [],
   "source": [
    "def freeze_all_but_last_n(model, n=2):\n",
    "    for param in model.parameters():\n",
    "        param.requires_grad = False\n",
    "\n",
    "    # Get all modules with parameters\n",
    "    modules_with_params = [m for m in model.modules() if any(p.requires_grad is False for p in m.parameters())]\n",
    "\n",
    "    # Unfreeze last n modules with parameters\n",
    "    for module in modules_with_params[-n:]:\n",
    "        for param in module.parameters():\n",
    "            param.requires_grad = True\n",
    "\n",
    "    return model\n",
    "\n",
    "\n",
    "def print_trainable_params(model):\n",
    "    print(\"Trainable Parameters:\")\n",
    "    total = 0\n",
    "    for name, param in model.named_parameters():\n",
    "        if param.requires_grad:\n",
    "            num_params = param.numel()\n",
    "            # print(f\"{name}: {num_params}\")\n",
    "            total += num_params\n",
    "    print(f\"Total Trainable Parameters: {total}\")\n"
   ]
  },
  {
   "cell_type": "markdown",
   "id": "57c3f81b",
   "metadata": {},
   "source": [
    "# Utils"
   ]
  },
  {
   "cell_type": "code",
   "execution_count": 15,
   "id": "8e879f31",
   "metadata": {},
   "outputs": [],
   "source": [
    "def load_model(model_name):\n",
    "    if model_name == \"simplenet1\":\n",
    "        return Simplenet1()\n",
    "    \n",
    "    elif model_name == \"simplenet2\":\n",
    "        return Simplenet2()\n",
    "    \n",
    "    elif model_name == \"simplenet3\":\n",
    "        return SimpleNet3()\n",
    "    \n",
    "    elif model_name == \"simplenet4\":\n",
    "        return SimpleNet4()\n",
    "    \n",
    "    else:\n",
    "        raise ValueError(f\"Model {model_name} not recognized. Please choose a valid model name.\")    "
   ]
  },
  {
   "cell_type": "code",
   "execution_count": 16,
   "id": "cd1d69b4",
   "metadata": {},
   "outputs": [],
   "source": [
    "def get_dataloaders(config, transform=None):\n",
    "    dataset_type = config[\"dataset_class\"]\n",
    "    batch_size = config[\"batch_size\"]\n",
    "    seed = 42 \n",
    "\n",
    "    if dataset_type == \"ImageClass1\": # using train and test directories\n",
    "        train_dataset = ImageDataset1(root_dir=train_dir, transform=transform, classes=classes, is_train=True)\n",
    "        val_dataset = ImageDataset1(root_dir=test_dir, transform=transform, classes=classes, is_train=False)\n",
    "    else: # Splitting train into train and validation sets\n",
    "        train_dataset = ImageDataset2(\n",
    "            root_dir=train_dir,\n",
    "            classes=classes,\n",
    "            transform=transform,\n",
    "            is_train=True,\n",
    "            split_ratio=0.8,\n",
    "            seed=seed\n",
    "        )\n",
    "        val_dataset = ImageDataset2(\n",
    "            root_dir=train_dir,\n",
    "            classes=classes,\n",
    "            transform=transform,\n",
    "            is_train=False,\n",
    "            split_ratio=0.8,\n",
    "            seed=seed\n",
    "        )\n",
    "\n",
    "    train_loader = DataLoader(train_dataset, batch_size=batch_size, shuffle=True)\n",
    "    val_loader = DataLoader(val_dataset, batch_size=batch_size)\n",
    "    return train_loader, val_loader\n",
    "\n",
    "def validate_model(model, val_loader, criterion):\n",
    "    model.eval()\n",
    "    device = next(model.parameters()).device\n",
    "    val_loss = 0.0\n",
    "    correct = 0\n",
    "    total = 0\n",
    "\n",
    "    with torch.no_grad():\n",
    "        for inputs, labels in val_loader:\n",
    "            inputs, labels = inputs.to(device), labels.to(device)\n",
    "            outputs = model(inputs)\n",
    "            loss = criterion(outputs, labels)\n",
    "\n",
    "            val_loss += loss.item()\n",
    "            _, predicted = outputs.max(1)\n",
    "            total += labels.size(0)\n",
    "            correct += predicted.eq(labels).sum().item()\n",
    "\n",
    "    return val_loss / len(val_loader), 100. * correct / total"
   ]
  },
  {
   "cell_type": "code",
   "execution_count": 17,
   "id": "cf874459",
   "metadata": {},
   "outputs": [],
   "source": [
    "def initialize_weights(model, method):\n",
    "    for m in model.modules():\n",
    "        if isinstance(m, (nn.Conv2d, nn.Linear)):\n",
    "            if method == \"xavier\":\n",
    "                nn.init.xavier_uniform_(m.weight)\n",
    "            elif method == \"kaiming\":\n",
    "                nn.init.kaiming_uniform_(m.weight, nonlinearity='relu')\n",
    "\n",
    "def should_initialize(model_type):\n",
    "    return model_type == \"scratch\"  # only initialize scratch models\n"
   ]
  },
  {
   "cell_type": "code",
   "execution_count": 18,
   "id": "d2276ec8",
   "metadata": {},
   "outputs": [],
   "source": [
    "from datetime import datetime\n",
    "\n",
    "def train_model(config):\n",
    "    model_type , model_name = config[\"model_choice\"]\n",
    "    train_loader, val_loader = get_dataloaders(config)\n",
    "\n",
    "    init_method = config[\"init_method\"]\n",
    "\n",
    "    model = load_model(model_name)\n",
    "    model.to(device)\n",
    "    time_stamp = datetime.now().strftime(\"%Y%m%d_%H\")\n",
    "    unique_config = f\"{model_name}_{config['dataset_class']}_{config['optimizer']}_{config['init_method']}_{config['batch_size']}_{config['lr']}_time_{time_stamp}\"\n",
    "\n",
    "    if should_initialize(config[\"model_choice\"][0]) and init_method != \"default\":\n",
    "        initialize_weights(model, init_method)\n",
    "\n",
    "    # Optimizer\n",
    "    if config[\"optimizer\"] == \"adam\":\n",
    "        optimizer = torch.optim.Adam(model.parameters(), lr=config[\"lr\"])\n",
    "    elif config[\"optimizer\"] == \"sgd\":\n",
    "        optimizer = torch.optim.SGD(model.parameters(), lr=config[\"lr\"])\n",
    "    else:\n",
    "        optimizer = torch.optim.RMSprop(model.parameters(), lr=config[\"lr\"])\n",
    "\n",
    "    criterion = nn.CrossEntropyLoss()\n",
    "    scheduler = torch.optim.lr_scheduler.ReduceLROnPlateau(optimizer, 'min', patience=2)\n",
    "\n",
    "    best_val_loss = float('inf')\n",
    "    patience_counter = 0\n",
    "    train_losses, val_losses = [], []\n",
    "    train_accs, val_accs = [], []\n",
    "\n",
    "    epochs = config[\"epochs\"]\n",
    "    save_interval = 2 if model_type == \"pretrained\" else 50\n",
    "    save_dir = os.path.join(\"logs_224_scratch\", \"checkpoints\")\n",
    "    os.makedirs(save_dir, exist_ok=True)\n",
    "\n",
    "    total_batches = len(train_loader)\n",
    "    total_steps = epochs * total_batches\n",
    "    progress_bar = tqdm(total=total_steps, dynamic_ncols=True, desc=\"Training\")\n",
    "\n",
    "    for epoch in range(epochs):\n",
    "        model.train()\n",
    "        running_loss, correct, total = 0.0, 0, 0\n",
    "        for i, (inputs, labels) in enumerate(train_loader):\n",
    "            inputs, labels = inputs.to(device), labels.to(device)\n",
    "            optimizer.zero_grad()\n",
    "            outputs = model(inputs)\n",
    "            loss = criterion(outputs, labels)\n",
    "            loss.backward()\n",
    "            optimizer.step()\n",
    "\n",
    "            running_loss += loss.item()\n",
    "            _, predicted = outputs.max(1)\n",
    "            total += labels.size(0)\n",
    "            correct += predicted.eq(labels).sum().item()\n",
    "\n",
    "            # Update tqdm\n",
    "            train_loss = running_loss / (i + 1)\n",
    "            train_acc = 100. * correct / total\n",
    "            progress_bar.update(1)\n",
    "            progress_bar.set_postfix({\n",
    "                \"Epoch\": f\"{epoch+1}/{epochs}\",\n",
    "                \"Train Loss\": f\"{train_loss:.4f}\",\n",
    "                \"Train Acc\": f\"{train_acc:.2f}%\"\n",
    "            })\n",
    "\n",
    "        # Validation phase\n",
    "        val_loss, val_acc = validate_model(model, val_loader, criterion)\n",
    "        scheduler.step(val_loss)\n",
    "\n",
    "        train_losses.append(train_loss)\n",
    "        val_losses.append(val_loss)\n",
    "        train_accs.append(train_acc)\n",
    "        val_accs.append(val_acc)\n",
    "\n",
    "        # Save model checkpoint\n",
    "        if (epoch + 1) % save_interval == 0:\n",
    "            os.makedirs(os.path.join(save_dir, unique_config), exist_ok=True)\n",
    "            torch.save(model.state_dict(), os.path.join(save_dir, unique_config, f\"epoch_{epoch+1}.pt\"))\n",
    "\n",
    "        # Early stopping\n",
    "        if val_loss < best_val_loss:\n",
    "            best_val_loss = val_loss\n",
    "            patience_counter = 0\n",
    "        else:\n",
    "            patience_counter += 1\n",
    "            if patience_counter >= 20:\n",
    "                progress_bar.set_description(\"Early Stopping\")\n",
    "                break\n",
    "    \n",
    "        progress_bar.set_postfix({\"Epoch\": f\"{epoch+1}/{epochs}\", \"Train Loss\": f\"{train_loss:.4f}\", \"Train Acc\": f\"{train_acc:.2f}%\", \"Val Loss\": f\"{val_loss:.4f}\", \"Val Acc\": f\"{val_acc:.2f}%\"})\n",
    "    progress_bar.close()\n",
    "\n",
    "    # Save metrics\n",
    "    os.makedirs(os.path.join(save_dir, unique_config), exist_ok=True)\n",
    "    torch.save({\n",
    "        \"train_losses\": train_losses,\n",
    "        \"val_losses\": val_losses,\n",
    "        \"train_accs\": train_accs,\n",
    "        \"val_accs\": val_accs\n",
    "    }, os.path.join(save_dir, unique_config, \"metrics.pt\"))\n",
    "\n",
    "\n",
    "    torch.save(model.state_dict(), os.path.join(save_dir, unique_config, \"final_model.pt\"))\n",
    "\n",
    "    return max(val_accs)\n"
   ]
  },
  {
   "cell_type": "markdown",
   "id": "3c85dd76",
   "metadata": {},
   "source": [
    "## Manual Configurations Simple CNN"
   ]
  },
  {
   "cell_type": "code",
   "execution_count": 19,
   "id": "15987c59",
   "metadata": {},
   "outputs": [],
   "source": [
    "configv3 = {\n",
    "    \"model_choice\": (\"scratch\", \"simplenet4\"),\n",
    "    \"optimizer\": \"sgd\",\n",
    "    \"lr\": 0.01,\n",
    "    \"batch_size\": 32,\n",
    "    \"dataset_class\": \"ImageClass2\",\n",
    "    \"epochs\": 100,\n",
    "    \"init_method\": \"kaiming\",\n",
    "}\n",
    "\n",
    "\n",
    "configv4 = {\n",
    "    \"model_choice\": (\"scratch\", \"simplenet3\"),\n",
    "    \"optimizer\": \"adam\",\n",
    "    \"lr\": 0.01,\n",
    "    \"batch_size\": 64,\n",
    "    \"dataset_class\": \"ImageClass1\",\n",
    "    \"epochs\": 100,\n",
    "    \"init_method\": \"kaiming\",\n",
    "}"
   ]
  },
  {
   "cell_type": "code",
   "execution_count": 20,
   "id": "2f34be9a",
   "metadata": {},
   "outputs": [],
   "source": [
    "configv7 = {\n",
    "    \"model_choice\": (\"scratch\", \"simplenet3\"),\n",
    "    \"optimizer\": \"adam\",\n",
    "    \"lr\": 0.01,\n",
    "    \"batch_size\": 64,\n",
    "    \"dataset_class\": \"ImageClass2\",\n",
    "    \"epochs\": 100,\n",
    "    \"init_method\": \"kaiming\",\n",
    "}\n",
    "\n",
    "configv8 = {\n",
    "    \"model_choice\": (\"scratch\", \"simplenet4\"),\n",
    "    \"optimizer\": \"adam\",\n",
    "    \"lr\": 0.01,\n",
    "    \"batch_size\": 32,\n",
    "    \"dataset_class\": \"ImageClass1\",\n",
    "    \"epochs\": 100,\n",
    "    \"init_method\": \"xavier\",\n",
    "}"
   ]
  },
  {
   "cell_type": "code",
   "execution_count": 21,
   "id": "2a7176e2",
   "metadata": {},
   "outputs": [],
   "source": [
    "#rain_model(configv3)\n",
    "#rain_model(configv4)\n",
    "#rain_model(configv7)\n",
    "#rain_model(configv8)"
   ]
  },
  {
   "cell_type": "code",
   "execution_count": 22,
   "id": "4d0a67ba",
   "metadata": {},
   "outputs": [],
   "source": [
    "configv1 = {\n",
    "    \"model_choice\": (\"scratch\", \"simplenet2\"),\n",
    "    \"optimizer\": \"adam\",\n",
    "    \"lr\": 0.01,\n",
    "    \"batch_size\": 16,\n",
    "    \"dataset_class\": \"ImageClass2\",\n",
    "    \"epochs\": 100,\n",
    "    \"init_method\": \"xavier\",\n",
    "}\n",
    "\n",
    "configv2 = {\n",
    "    \"model_choice\": (\"scratch\", \"simplenet1\"),\n",
    "    \"optimizer\": \"adam\",\n",
    "    \"lr\": 0.01,\n",
    "    \"batch_size\": 32,\n",
    "    \"dataset_class\": \"ImageClass2\",\n",
    "    \"epochs\": 100,\n",
    "    \"init_method\": \"xavier\",\n",
    "}\n",
    "\n",
    "configv5 = {\n",
    "    \"model_choice\": (\"scratch\", \"simplenet2\"),\n",
    "    \"optimizer\": \"sgd\",\n",
    "    \"lr\": 0.01,\n",
    "    \"batch_size\": 16,\n",
    "    \"dataset_class\": \"ImageClass2\",\n",
    "    \"epochs\": 100,\n",
    "    \"init_method\": \"xavier\",\n",
    "}\n",
    "\n",
    "configv6 = {\n",
    "    \"model_choice\": (\"scratch\", \"simplenet1\"),\n",
    "    \"optimizer\": \"adam\",\n",
    "    \"lr\": 0.01,\n",
    "    \"batch_size\": 16,\n",
    "    \"dataset_class\": \"ImageClass2\",\n",
    "    \"epochs\": 100,\n",
    "    \"init_method\": \"xavier\",\n",
    "}\n",
    "\n",
    "configv9 = {\n",
    "    \"model_choice\": (\"scratch\", \"simplenet2\"),\n",
    "    \"optimizer\": \"adam\",\n",
    "    \"lr\": 0.01,\n",
    "    \"batch_size\": 16,\n",
    "    \"dataset_class\": \"ImageClass2\",\n",
    "    \"epochs\": 100,\n",
    "    \"init_method\": \"xavier\",\n",
    "}\n"
   ]
  },
  {
   "cell_type": "code",
   "execution_count": 23,
   "id": "1e7e65cc",
   "metadata": {},
   "outputs": [
    {
     "name": "stderr",
     "output_type": "stream",
     "text": [
      "Early Stopping:  60%|██████    | 24720/41200 [3:03:11<2:02:07,  2.25it/s, Epoch=60/100, Train Loss=0.5477, Train Acc=81.08%]                            \n"
     ]
    },
    {
     "data": {
      "text/plain": [
       "85.90522478736331"
      ]
     },
     "execution_count": 23,
     "metadata": {},
     "output_type": "execute_result"
    }
   ],
   "source": [
    "train_model(configv5)"
   ]
  },
  {
   "cell_type": "code",
   "execution_count": 24,
   "id": "8eb12dd4",
   "metadata": {},
   "outputs": [
    {
     "name": "stderr",
     "output_type": "stream",
     "text": [
      "Early Stopping:  93%|█████████▎| 38316/41200 [4:36:35<20:49,  2.31it/s, Epoch=93/100, Train Loss=0.6787, Train Acc=77.33%]                              \n"
     ]
    },
    {
     "data": {
      "text/plain": [
       "83.3535844471446"
      ]
     },
     "execution_count": 24,
     "metadata": {},
     "output_type": "execute_result"
    }
   ],
   "source": [
    "train_model(configv9)"
   ]
  },
  {
   "cell_type": "code",
   "execution_count": 25,
   "id": "5629c49b",
   "metadata": {},
   "outputs": [
    {
     "name": "stderr",
     "output_type": "stream",
     "text": [
      "Early Stopping:  66%|██████▌   | 13596/20600 [11:41:22<6:01:18,  3.10s/it, Epoch=66/100, Train Loss=1.2807, Train Acc=48.79%]                            \n"
     ]
    },
    {
     "data": {
      "text/plain": [
       "55.28554070473876"
      ]
     },
     "execution_count": 25,
     "metadata": {},
     "output_type": "execute_result"
    }
   ],
   "source": [
    "train_model(configv2)"
   ]
  },
  {
   "cell_type": "code",
   "execution_count": 26,
   "id": "b362d156",
   "metadata": {},
   "outputs": [
    {
     "name": "stderr",
     "output_type": "stream",
     "text": [
      "Early Stopping:  91%|█████████ | 37492/41200 [5:00:25<29:42,  2.08it/s, Epoch=91/100, Train Loss=0.6249, Train Acc=78.39%]                              \n"
     ]
    },
    {
     "data": {
      "text/plain": [
       "83.77885783718105"
      ]
     },
     "execution_count": 26,
     "metadata": {},
     "output_type": "execute_result"
    }
   ],
   "source": [
    "train_model(configv1)"
   ]
  },
  {
   "cell_type": "code",
   "execution_count": null,
   "id": "04406869",
   "metadata": {},
   "outputs": [],
   "source": [
    "#train_model(configv6)\n",
    "train_model(configv1)\n",
    "train_model(configv5)\n",
    "train_model(configv9)\n",
    "train_model(configv2)"
   ]
  },
  {
   "cell_type": "markdown",
   "id": "0572a1a1",
   "metadata": {},
   "source": [
    "# Functions to load\n"
   ]
  },
  {
   "cell_type": "code",
   "execution_count": null,
   "id": "e2ca8850",
   "metadata": {},
   "outputs": [],
   "source": [
    "def load_model_weights(model, path):\n",
    "    model.load_state_dict(torch.load(path))\n",
    "    return model\n",
    "\n",
    "def load_metrics(path):\n",
    "    return torch.load(path)"
   ]
  }
 ],
 "metadata": {
  "kernelspec": {
   "display_name": "Python 3",
   "language": "python",
   "name": "python3"
  },
  "language_info": {
   "codemirror_mode": {
    "name": "ipython",
    "version": 3
   },
   "file_extension": ".py",
   "mimetype": "text/x-python",
   "name": "python",
   "nbconvert_exporter": "python",
   "pygments_lexer": "ipython3",
   "version": "3.10.11"
  }
 },
 "nbformat": 4,
 "nbformat_minor": 5
}
